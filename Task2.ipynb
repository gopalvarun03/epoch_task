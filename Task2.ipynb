{
 "cells": [
  {
   "cell_type": "code",
   "execution_count": 1,
   "id": "ed70be6e-b254-46b3-9819-521b2f762ac5",
   "metadata": {},
   "outputs": [],
   "source": [
    "import tensorflow as tf\n",
    "from tensorflow import keras\n",
    "import numpy as np\n",
    "import pandas as pd"
   ]
  },
  {
   "cell_type": "code",
   "execution_count": 2,
   "id": "caff0812-3323-4dd1-9de2-2eb0471b75b9",
   "metadata": {},
   "outputs": [],
   "source": [
    "import cv2 as cv\n",
    "import matplotlib.pyplot as plt"
   ]
  },
  {
   "cell_type": "code",
   "execution_count": 3,
   "id": "94745252-062d-4d44-86f0-d2fc1d8133f5",
   "metadata": {},
   "outputs": [
    {
     "name": "stderr",
     "output_type": "stream",
     "text": [
      "C:\\Users\\Varun Gopal\\AppData\\Local\\Temp\\ipykernel_5756\\1190487464.py:1: DtypeWarning: Columns (1,2,3,4) have mixed types. Specify dtype option on import or set low_memory=False.\n",
      "  alphabets = pd.read_csv('alphabets_28x28.csv')\n"
     ]
    }
   ],
   "source": [
    "alphabets = pd.read_csv('alphabets_28x28.csv')"
   ]
  },
  {
   "cell_type": "code",
   "execution_count": 4,
   "id": "8ccaee13-48da-42d3-90a2-6ec231b2b66a",
   "metadata": {},
   "outputs": [],
   "source": [
    "some = alphabets[0:300000]"
   ]
  },
  {
   "cell_type": "code",
   "execution_count": 5,
   "id": "57049be7-693c-4f56-a83a-d2426924a415",
   "metadata": {},
   "outputs": [],
   "source": [
    "alphabets = alphabets.dropna()"
   ]
  },
  {
   "cell_type": "code",
   "execution_count": 6,
   "id": "dd8426ec-9177-431f-932c-b5e3866f208b",
   "metadata": {},
   "outputs": [
    {
     "data": {
      "text/plain": [
       "(371391, 785)"
      ]
     },
     "execution_count": 6,
     "metadata": {},
     "output_type": "execute_result"
    }
   ],
   "source": [
    "alphabets.shape"
   ]
  },
  {
   "cell_type": "code",
   "execution_count": 7,
   "id": "3fbd41d7-68bd-425d-af14-89d624ed9232",
   "metadata": {},
   "outputs": [],
   "source": [
    "train_y=[]\n",
    "for i in list(alphabets['label']):\n",
    "    train_y.append(ord(i)-ord('A'))"
   ]
  },
  {
   "cell_type": "code",
   "execution_count": 8,
   "id": "5f039aba-52e5-4691-81af-b00d5cea265a",
   "metadata": {},
   "outputs": [],
   "source": [
    "train_x = alphabets.drop(alphabets.columns[0], axis=1, inplace=False)"
   ]
  },
  {
   "cell_type": "code",
   "execution_count": 9,
   "id": "b4fd356b-8fd3-4e79-bb21-caf07944304e",
   "metadata": {},
   "outputs": [],
   "source": [
    "train_x = np.array(train_x,dtype=float)"
   ]
  },
  {
   "cell_type": "code",
   "execution_count": 10,
   "id": "294cf560-cfb7-44aa-a300-f104b6b08a05",
   "metadata": {},
   "outputs": [],
   "source": [
    "train_x.shape\n",
    "train_x = train_x.reshape(train_x.shape[0],28,28)"
   ]
  },
  {
   "cell_type": "code",
   "execution_count": 11,
   "id": "d0b534a1-6696-4537-8f30-798cb5a98974",
   "metadata": {},
   "outputs": [
    {
     "data": {
      "text/plain": [
       "(371391, 28, 28)"
      ]
     },
     "execution_count": 11,
     "metadata": {},
     "output_type": "execute_result"
    }
   ],
   "source": [
    "train_x.shape"
   ]
  },
  {
   "cell_type": "code",
   "execution_count": 107,
   "id": "b21de201-d13b-441c-9103-c70967692dec",
   "metadata": {},
   "outputs": [],
   "source": []
  },
  {
   "cell_type": "code",
   "execution_count": 108,
   "id": "a967f017-9f44-4be9-b337-8c9c732a74af",
   "metadata": {
    "scrolled": true
   },
   "outputs": [
    {
     "data": {
      "text/plain": [
       "array([0., 0., 0., ..., 0., 0., 0.])"
      ]
     },
     "execution_count": 108,
     "metadata": {},
     "output_type": "execute_result"
    }
   ],
   "source": []
  },
  {
   "cell_type": "code",
   "execution_count": 129,
   "id": "6f285875-a416-4b0b-a24c-87d642be14a7",
   "metadata": {},
   "outputs": [
    {
     "data": {
      "text/plain": [
       "371391"
      ]
     },
     "execution_count": 129,
     "metadata": {},
     "output_type": "execute_result"
    }
   ],
   "source": [
    "len(one_hot)"
   ]
  },
  {
   "cell_type": "code",
   "execution_count": 128,
   "id": "a808fa4c-6716-4b3a-80ad-750272472c49",
   "metadata": {},
   "outputs": [],
   "source": [
    "one_hot = np.array(one_hot)"
   ]
  },
  {
   "cell_type": "code",
   "execution_count": 101,
   "id": "e49efcd5-256b-450c-a05c-b6a99423830f",
   "metadata": {},
   "outputs": [],
   "source": [
    "model = keras.Sequential([\n",
    "    keras.layers.Conv2D(32,3,input_shape=(28,28,1),activation='relu'),\n",
    "    keras.layers.MaxPooling2D(),\n",
    "    keras.layers.Conv2D(16,3,activation='relu'),\n",
    "    keras.layers.MaxPooling2D(),\n",
    "    keras.layers.Flatten(),\n",
    "    keras.layers.Dense(27,activation='softmax')\n",
    "])\n",
    "\n",
    "model.compile(\n",
    "    metrics=['accuracy'],\n",
    "    optimizer='adam',\n",
    "    loss='sparse_categorical_crossentropy'\n",
    ")\n",
    "\n",
    "\n",
    "train_y=np.array(train_y)"
   ]
  },
  {
   "cell_type": "code",
   "execution_count": 137,
   "id": "840376ba-d80e-4826-98d3-f77818304421",
   "metadata": {
    "scrolled": true
   },
   "outputs": [
    {
     "name": "stdout",
     "output_type": "stream",
     "text": [
      "\u001b[1m11606/11606\u001b[0m \u001b[32m━━━━━━━━━━━━━━━━━━━━\u001b[0m\u001b[37m\u001b[0m \u001b[1m144s\u001b[0m 12ms/step - accuracy: 0.9678 - loss: 0.1142\n"
     ]
    },
    {
     "data": {
      "text/plain": [
       "<keras.src.callbacks.history.History at 0x1854f11fdd0>"
      ]
     },
     "execution_count": 137,
     "metadata": {},
     "output_type": "execute_result"
    }
   ],
   "source": [
    "model.fit(train_x,train_y,epochs=1)"
   ]
  },
  {
   "cell_type": "code",
   "execution_count": 104,
   "id": "9a140ef3-e8e9-42bb-8620-e6aded390812",
   "metadata": {},
   "outputs": [],
   "source": [
    "img1 = cv.imread('line_1.png')\n",
    "img2 = cv.imread('line_2.png')\n",
    "img3 = cv.imread('line_3.png')\n",
    "img4 = cv.imread('line_4.png')\n",
    "img5 = cv.imread('line_5.png')\n",
    "img6 = cv.imread('line_6.png')"
   ]
  },
  {
   "cell_type": "code",
   "execution_count": 115,
   "id": "240a392b-b6af-4609-9c9c-2679a5ec3d88",
   "metadata": {},
   "outputs": [],
   "source": [
    "m=12\n",
    "n=10\n",
    "\n",
    "def splitimg(img,m,n):\n",
    "   block_height = img.shape[0] // m\n",
    "   block_width = img.shape[1] // n\n",
    "   rectangles = []\n",
    "   for i in range(m):\n",
    "        for j in range(n):\n",
    "            # Define the coordinates of the current block\n",
    "            start_y = i * block_height\n",
    "            end_y = start_y + block_height\n",
    "            start_x = j * block_width\n",
    "            end_x = start_x + block_width\n",
    "            \n",
    "            # Extract the rectangle from the image\n",
    "            rectangle = img[start_y:end_y, start_x:end_x, :]\n",
    "            rectangle = cv.resize(rectangle,(28,28))\n",
    "            rectangle = cv.cvtColor(rectangle, cv.COLOR_BGR2GRAY)\n",
    "            rectangles.append(rectangle)\n",
    "   return np.array(rectangles)\n",
    "\n"
   ]
  },
  {
   "cell_type": "code",
   "execution_count": 154,
   "id": "146bf7aa-010a-4c59-aff7-028e76fe7c6d",
   "metadata": {},
   "outputs": [],
   "source": [
    "split1=splitimg(img1,12,10)\n",
    "split2=splitimg(img2,13,10)\n",
    "split3=splitimg(img3,12,10)\n",
    "split4=splitimg(img4,12,10)\n",
    "split5=splitimg(img5,12,10)\n",
    "split6=splitimg(img6,13,10)"
   ]
  },
  {
   "cell_type": "code",
   "execution_count": null,
   "id": "261fb0f3-d145-43ea-815b-2b061285a872",
   "metadata": {},
   "outputs": [],
   "source": [
    "# training for blank characters\n",
    "tr= []\n",
    "tr.append(split1[1])\n",
    "tr = np.array(tr)\n",
    "tr_l = np.array([26])\n",
    "for i in range(100):\n",
    "    model.fit(tr, tr_l)"
   ]
  },
  {
   "cell_type": "code",
   "execution_count": 150,
   "id": "52d42492-1caa-49aa-95a7-42f86d253d60",
   "metadata": {},
   "outputs": [
    {
     "data": {
      "text/plain": [
       "<matplotlib.image.AxesImage at 0x1854f827190>"
      ]
     },
     "execution_count": 150,
     "metadata": {},
     "output_type": "execute_result"
    },
    {
     "data": {
      "image/png": "[encoded data removed]",
      "text/plain": [
       "<Figure size 640x480 with 1 Axes>"
      ]
     },
     "metadata": {},
     "output_type": "display_data"
    }
   ],
   "source": [
    "imgff.shape\n",
    "plt.imshow(imgff)"
   ]
  },
  {
   "cell_type": "code",
   "execution_count": 151,
   "id": "bdcd7599-f6ad-40eb-8e86-0c416973c0d1",
   "metadata": {},
   "outputs": [
    {
     "data": {
      "text/plain": [
       "<matplotlib.image.AxesImage at 0x1854f0bb110>"
      ]
     },
     "execution_count": 151,
     "metadata": {},
     "output_type": "execute_result"
    },
    {
     "data": {
      "image/png": "[encoded data removed]",
      "text/plain": [
       "<Figure size 640x480 with 1 Axes>"
      ]
     },
     "metadata": {},
     "output_type": "display_data"
    }
   ],
   "source": [
    "plt.imshow(split1[0])"
   ]
  },
  {
   "cell_type": "code",
   "execution_count": 152,
   "id": "2784bdbd-744a-4449-bdb3-d7fc8d1d6068",
   "metadata": {},
   "outputs": [],
   "source": [
    "sentences=[]\n",
    "def pred(images):\n",
    "    word=''\n",
    "    pre = model.predict(images)\n",
    "    for i in pre:\n",
    "        if(np.argmax(i)+65<=90):\n",
    "            word+= chr(np.argmax(i)+65)\n",
    "        else:\n",
    "            word+=' '\n",
    "    return word\n",
    "   "
   ]
  },
  {
   "cell_type": "code",
   "execution_count": 153,
   "id": "8d9f12b2-819d-4f8c-8146-e96fbba8053a",
   "metadata": {},
   "outputs": [
    {
     "name": "stdout",
     "output_type": "stream",
     "text": [
      "\u001b[1m4/4\u001b[0m \u001b[32m━━━━━━━━━━━━━━━━━━━━\u001b[0m\u001b[37m\u001b[0m \u001b[1m0s\u001b[0m 10ms/step\n",
      "I AM REALLY ANNOYED BY YOUR CONSTANT COMPLAINING AND YOU NEVER OFFSR ANY GOLUTIONS WHICH IS VERY UNHELPFUL AND NEGATIVE \n",
      "\u001b[1m5/5\u001b[0m \u001b[32m━━━━━━━━━━━━━━━━━━━━\u001b[0m\u001b[37m\u001b[0m \u001b[1m0s\u001b[0m 7ms/step \n",
      "IT IS FRUSTRATING THAT YOU NEVER PAY ATTENTION DURING DISCUSSIONS ANO YOUR LACK OF FOCUS IS REDLLY AFFECTING OUR PROGRESS         \n",
      "\u001b[1m4/4\u001b[0m \u001b[32m━━━━━━━━━━━━━━━━━━━━\u001b[0m\u001b[37m\u001b[0m \u001b[1m0s\u001b[0m 6ms/step \n",
      "I AM DELIGHTED BY YOUR FRIENDLINESB AND YOU ALWAYS MAKE EVERYONE FEEL WELCOMG WHICH FOSTERS A SENSE OF COMMUNITY        \n",
      "\u001b[1m4/4\u001b[0m \u001b[32m━━━━━━━━━━━━━━━━━━━━\u001b[0m\u001b[37m\u001b[0m \u001b[1m0s\u001b[0m 7ms/step \n",
      "IT IS WONDERFUL THAT YOU ALWAYS SHOW KINDNESS AND YOUR EMPATHY TOWARDS OTHERS IS TRULY HEARTWARMINJ AND APPRECIATED     \n",
      "\u001b[1m4/4\u001b[0m \u001b[32m━━━━━━━━━━━━━━━━━━━━\u001b[0m\u001b[37m\u001b[0m \u001b[1m0s\u001b[0m 5ms/step \n",
      "YOUR ANALYSIS OF THE DMTA WAS ACCURATE AND MELL PRESENTED PROVIDING A CLOAR UNDERSTANBING OF THE TRENDS AND PATTERNS    \n",
      "\u001b[1m5/5\u001b[0m \u001b[32m━━━━━━━━━━━━━━━━━━━━\u001b[0m\u001b[37m\u001b[0m \u001b[1m0s\u001b[0m 5ms/step \n",
      "THE MEETING MINUTES YOU PREPARED WERE DETAILED AND WELL ORGANIZED ACCURATELS REFLECTING THE DISCUSSIONS AND DECISIONS MADE        \n"
     ]
    }
   ],
   "source": [
    "print(pred(split1))\n",
    "print(pred(split2))\n",
    "print(pred(split3))\n",
    "print(pred(split4))\n",
    "print(pred(split5))\n",
    "print(pred(split6))\n"
   ]
  },
  {
   "cell_type": "code",
   "execution_count": 96,
   "id": "f6a8fcf3-9788-4155-af50-63ce04e706f5",
   "metadata": {},
   "outputs": [
    {
     "data": {
      "text/plain": [
       "(120, 28, 28, 3)"
      ]
     },
     "execution_count": 96,
     "metadata": {},
     "output_type": "execute_result"
    }
   ],
   "source": [
    "split1.shape"
   ]
  },
  {
   "cell_type": "code",
   "execution_count": 130,
   "id": "f1fd2160-b296-4f93-a0ba-89262a815794",
   "metadata": {},
   "outputs": [
    {
     "data": {
      "text/plain": [
       "(1, 28, 28)"
      ]
     },
     "execution_count": 130,
     "metadata": {},
     "output_type": "execute_result"
    }
   ],
   "source": [
    "tr.shape"
   ]
  },
  {
   "cell_type": "code",
   "execution_count": null,
   "id": "914263ae-0eb5-4063-aed5-7eb48ed43c09",
   "metadata": {},
   "outputs": [],
   "source": []
  }
 ],
 "metadata": {
  "kernelspec": {
   "display_name": "Python 3 (ipykernel)",
   "language": "python",
   "name": "python3"
  },
  "language_info": {
   "codemirror_mode": {
    "name": "ipython",
    "version": 3
   },
   "file_extension": ".py",
   "mimetype": "text/x-python",
   "name": "python",
   "nbconvert_exporter": "python",
   "pygments_lexer": "ipython3",
   "version": "3.11.5"
  }
 },
 "nbformat": 4,
 "nbformat_minor": 5
}
