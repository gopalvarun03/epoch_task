{
 "cells": [
  {
   "cell_type": "code",
   "execution_count": 1,
   "id": "10710edc-8090-43df-9ed6-b358111e6831",
   "metadata": {},
   "outputs": [],
   "source": [
    "import numpy as np\n",
    "import pandas as pd\n",
    "import matplotlib.pyplot as plt"
   ]
  },
  {
   "cell_type": "code",
   "execution_count": 2,
   "id": "65db8ac7-6ddd-4d18-b742-dfd627aaaa31",
   "metadata": {},
   "outputs": [
    {
     "name": "stderr",
     "output_type": "stream",
     "text": [
      "C:\\Users\\Varun Gopal\\AppData\\Local\\Temp\\ipykernel_18852\\2067250216.py:1: DtypeWarning: Columns (9) have mixed types. Specify dtype option on import or set low_memory=False.\n",
      "  data = pd.read_csv('clustering_data.csv')\n"
     ]
    }
   ],
   "source": [
    "data = pd.read_csv('clustering_data.csv')"
   ]
  },
  {
   "cell_type": "code",
   "execution_count": 3,
   "id": "fb21af60-a769-4243-9524-4774318dd5fc",
   "metadata": {},
   "outputs": [
    {
     "data": {
      "text/html": [
       "<div>\n",
       "<style scoped>\n",
       "    .dataframe tbody tr th:only-of-type {\n",
       "        vertical-align: middle;\n",
       "    }\n",
       "\n",
       "    .dataframe tbody tr th {\n",
       "        vertical-align: top;\n",
       "    }\n",
       "\n",
       "    .dataframe thead th {\n",
       "        text-align: right;\n",
       "    }\n",
       "</style>\n",
       "<table border=\"1\" class=\"dataframe\">\n",
       "  <thead>\n",
       "    <tr style=\"text-align: right;\">\n",
       "      <th></th>\n",
       "      <th>CircleName</th>\n",
       "      <th>RegionName</th>\n",
       "      <th>DivisionName</th>\n",
       "      <th>OfficeName</th>\n",
       "      <th>Pincode</th>\n",
       "      <th>OfficeType</th>\n",
       "      <th>Delivery</th>\n",
       "      <th>District</th>\n",
       "      <th>StateName</th>\n",
       "      <th>Latitude</th>\n",
       "      <th>Longitude</th>\n",
       "    </tr>\n",
       "  </thead>\n",
       "  <tbody>\n",
       "    <tr>\n",
       "      <th>0</th>\n",
       "      <td>Andhra Pradesh Circle</td>\n",
       "      <td>Kurnool Region</td>\n",
       "      <td>Hindupur Division</td>\n",
       "      <td>Peddakotla B.O</td>\n",
       "      <td>515631</td>\n",
       "      <td>BO</td>\n",
       "      <td>Delivery</td>\n",
       "      <td>ANANTAPUR</td>\n",
       "      <td>ANDHRA PRADESH</td>\n",
       "      <td>14.5689</td>\n",
       "      <td>77.85624</td>\n",
       "    </tr>\n",
       "    <tr>\n",
       "      <th>1</th>\n",
       "      <td>Andhra Pradesh Circle</td>\n",
       "      <td>Kurnool Region</td>\n",
       "      <td>Hindupur Division</td>\n",
       "      <td>Pinnadhari B.O</td>\n",
       "      <td>515631</td>\n",
       "      <td>BO</td>\n",
       "      <td>Delivery</td>\n",
       "      <td>ANANTAPUR</td>\n",
       "      <td>ANDHRA PRADESH</td>\n",
       "      <td>14.5281</td>\n",
       "      <td>77.857014</td>\n",
       "    </tr>\n",
       "    <tr>\n",
       "      <th>2</th>\n",
       "      <td>Andhra Pradesh Circle</td>\n",
       "      <td>Kurnool Region</td>\n",
       "      <td>Hindupur Division</td>\n",
       "      <td>Yerraguntapalle B.O</td>\n",
       "      <td>515631</td>\n",
       "      <td>BO</td>\n",
       "      <td>Delivery</td>\n",
       "      <td>ANANTAPUR</td>\n",
       "      <td>ANDHRA PRADESH</td>\n",
       "      <td>14.561111</td>\n",
       "      <td>77.85715</td>\n",
       "    </tr>\n",
       "    <tr>\n",
       "      <th>3</th>\n",
       "      <td>Andhra Pradesh Circle</td>\n",
       "      <td>Kurnool Region</td>\n",
       "      <td>Hindupur Division</td>\n",
       "      <td>Obulareddipalli B.O</td>\n",
       "      <td>515581</td>\n",
       "      <td>BO</td>\n",
       "      <td>Delivery</td>\n",
       "      <td>ANANTAPUR</td>\n",
       "      <td>ANDHRA PRADESH</td>\n",
       "      <td>14.2488</td>\n",
       "      <td>78.2588</td>\n",
       "    </tr>\n",
       "    <tr>\n",
       "      <th>4</th>\n",
       "      <td>Andhra Pradesh Circle</td>\n",
       "      <td>Kurnool Region</td>\n",
       "      <td>Hindupur Division</td>\n",
       "      <td>Odulapalli B.O</td>\n",
       "      <td>515581</td>\n",
       "      <td>BO</td>\n",
       "      <td>Delivery</td>\n",
       "      <td>ANANTAPUR</td>\n",
       "      <td>ANDHRA PRADESH</td>\n",
       "      <td>14.24555</td>\n",
       "      <td>78.2477</td>\n",
       "    </tr>\n",
       "  </tbody>\n",
       "</table>\n",
       "</div>"
      ],
      "text/plain": [
       "              CircleName      RegionName       DivisionName  \\\n",
       "0  Andhra Pradesh Circle  Kurnool Region  Hindupur Division   \n",
       "1  Andhra Pradesh Circle  Kurnool Region  Hindupur Division   \n",
       "2  Andhra Pradesh Circle  Kurnool Region  Hindupur Division   \n",
       "3  Andhra Pradesh Circle  Kurnool Region  Hindupur Division   \n",
       "4  Andhra Pradesh Circle  Kurnool Region  Hindupur Division   \n",
       "\n",
       "            OfficeName  Pincode OfficeType  Delivery   District  \\\n",
       "0       Peddakotla B.O   515631         BO  Delivery  ANANTAPUR   \n",
       "1       Pinnadhari B.O   515631         BO  Delivery  ANANTAPUR   \n",
       "2  Yerraguntapalle B.O   515631         BO  Delivery  ANANTAPUR   \n",
       "3  Obulareddipalli B.O   515581         BO  Delivery  ANANTAPUR   \n",
       "4       Odulapalli B.O   515581         BO  Delivery  ANANTAPUR   \n",
       "\n",
       "        StateName   Latitude  Longitude  \n",
       "0  ANDHRA PRADESH    14.5689   77.85624  \n",
       "1  ANDHRA PRADESH    14.5281  77.857014  \n",
       "2  ANDHRA PRADESH  14.561111   77.85715  \n",
       "3  ANDHRA PRADESH    14.2488    78.2588  \n",
       "4  ANDHRA PRADESH   14.24555    78.2477  "
      ]
     },
     "execution_count": 3,
     "metadata": {},
     "output_type": "execute_result"
    }
   ],
   "source": [
    "data.head(5)"
   ]
  },
  {
   "cell_type": "code",
   "execution_count": 16,
   "id": "1b6e6c8e-51fd-4b29-8533-68edc856de81",
   "metadata": {},
   "outputs": [],
   "source": [
    "ts_data = data[data['StateName']=='TELANGANA']"
   ]
  },
  {
   "cell_type": "code",
   "execution_count": 17,
   "id": "d86b0261-b977-4b4a-b93a-ad4a2fb7c6bc",
   "metadata": {},
   "outputs": [],
   "source": [
    "ts_pindata = ts_data[['Pincode','Latitude','Longitude']]"
   ]
  },
  {
   "cell_type": "code",
   "execution_count": 18,
   "id": "8fe28409-826f-4f7b-b7d1-733b43f5726a",
   "metadata": {},
   "outputs": [],
   "source": [
    "predata = ts_pindata\n",
    "predata = predata[predata['Latitude'].isna()==False]\n",
    "predata = predata[predata['Longitude'].isna()==False]\n",
    "predata = predata.drop_duplicates(subset=['Latitude', 'Longitude'])"
   ]
  },
  {
   "cell_type": "code",
   "execution_count": 19,
   "id": "4c2b098f-70c0-4240-8c2e-3c582fa1b5e5",
   "metadata": {},
   "outputs": [
    {
     "name": "stdout",
     "output_type": "stream",
     "text": [
      "(3730, 3)\n"
     ]
    }
   ],
   "source": [
    "print(predata.shape)"
   ]
  },
  {
   "cell_type": "code",
   "execution_count": 20,
   "id": "6b5f4d58-0c18-4afc-a62b-1fc3aac06050",
   "metadata": {},
   "outputs": [
    {
     "data": {
      "image/png": "[encoded data removed]",
      "text/plain": [
       "<Figure size 640x480 with 1 Axes>"
      ]
     },
     "metadata": {},
     "output_type": "display_data"
    }
   ],
   "source": [
    "lat=np.array(predata['Latitude'],dtype=float)\n",
    "lon=np.array(predata['Longitude'],dtype=float)\n",
    "a = plt.subplot()\n",
    "a.scatter(lat,lon,color='red',marker='.')\n",
    "plt.show()"
   ]
  },
  {
   "cell_type": "code",
   "execution_count": 21,
   "id": "af9523b4-63f9-4efd-bbdc-9eebc227ff6c",
   "metadata": {},
   "outputs": [],
   "source": [
    "colors=['blue','red','green','orange','yellow','brown','black']"
   ]
  },
  {
   "cell_type": "code",
   "execution_count": 22,
   "id": "6dd4fd83-b3ff-4ba7-877b-e9a68e0f2632",
   "metadata": {},
   "outputs": [],
   "source": [
    "class KMeans:\n",
    "    def __init__(self, n_clusters, max_iter=300):\n",
    "        self.n_clusters = n_clusters\n",
    "        self.max_iter = max_iter\n",
    "        self.centroids = None\n",
    "        self.labels = None\n",
    "        \n",
    "    def fit(self, X):\n",
    "        self.centroids = X[np.random.choice(X.shape[0], self.n_clusters, replace=False)]\n",
    "        for _ in range(self.max_iter):\n",
    "            self.labels = self._assign_labels(X)\n",
    "            new_centroids = self._update_centroids(X)\n",
    "            if np.allclose(self.centroids, new_centroids):\n",
    "                break\n",
    "            self.centroids = new_centroids\n",
    "        \n",
    "    def _assign_labels(self, X):\n",
    "        distances = np.sqrt(((X - self.centroids[:, np.newaxis])**2).sum(axis=2))\n",
    "        return np.argmin(distances, axis=0)\n",
    "    \n",
    "    def _update_centroids(self, X):\n",
    "        new_centroids = np.zeros_like(self.centroids)\n",
    "        for i in range(self.n_clusters):\n",
    "            new_centroids[i] = np.mean(X[self.labels == i], axis=0)\n",
    "        return new_centroids\n",
    "    \n",
    "    def predict(self, X):\n",
    "        distances = np.sqrt(((X - self.centroids[:, np.newaxis])**2).sum(axis=2))\n",
    "        return np.argmin(distances, axis=0)"
   ]
  },
  {
   "cell_type": "code",
   "execution_count": 23,
   "id": "21aaae1c-44f3-4e92-83b6-8db45a16a224",
   "metadata": {},
   "outputs": [],
   "source": [
    "model = KMeans(5,600)"
   ]
  },
  {
   "cell_type": "code",
   "execution_count": 24,
   "id": "c58583ad-2e8b-4e23-ab89-3ed0b6fc9d96",
   "metadata": {},
   "outputs": [],
   "source": [
    "concat_data = np.array(predata[['Latitude','Longitude']],dtype=float)"
   ]
  },
  {
   "cell_type": "code",
   "execution_count": 25,
   "id": "1e5b3222-5208-491a-8884-d05145456812",
   "metadata": {},
   "outputs": [],
   "source": [
    "model.fit(concat_data)"
   ]
  },
  {
   "cell_type": "code",
   "execution_count": 26,
   "id": "6df0b3dd-a0e8-424e-be4c-fea37013d175",
   "metadata": {},
   "outputs": [],
   "source": [
    "labels = model._assign_labels(concat_data)"
   ]
  },
  {
   "cell_type": "code",
   "execution_count": 15,
   "id": "ef3dea11-1ee4-4c3c-b246-5d4cf20906fb",
   "metadata": {},
   "outputs": [
    {
     "data": {
      "image/png": "[encoded data removed]",
      "text/plain": [
       "<Figure size 640x480 with 1 Axes>"
      ]
     },
     "metadata": {},
     "output_type": "display_data"
    }
   ],
   "source": [
    "b = plt.subplot()\n",
    "\n",
    "for i in range(0,7):\n",
    "    b.scatter(lat[labels==i],lon[labels==i],color=colors[i])\n",
    "    \n",
    "\n",
    "plt.show()"
   ]
  },
  {
   "cell_type": "code",
   "execution_count": 87,
   "id": "145722c3-cda2-4886-97eb-ee909beff873",
   "metadata": {},
   "outputs": [
    {
     "data": {
      "text/plain": [
       "(4281,)"
      ]
     },
     "execution_count": 87,
     "metadata": {},
     "output_type": "execute_result"
    }
   ],
   "source": [
    "lat.shape"
   ]
  },
  {
   "cell_type": "code",
   "execution_count": null,
   "id": "718d3e00-110c-4a30-951e-655a912b750e",
   "metadata": {},
   "outputs": [],
   "source": []
  }
 ],
 "metadata": {
  "kernelspec": {
   "display_name": "Python 3 (ipykernel)",
   "language": "python",
   "name": "python3"
  },
  "language_info": {
   "codemirror_mode": {
    "name": "ipython",
    "version": 3
   },
   "file_extension": ".py",
   "mimetype": "text/x-python",
   "name": "python",
   "nbconvert_exporter": "python",
   "pygments_lexer": "ipython3",
   "version": "3.11.5"
  }
 },
 "nbformat": 4,
 "nbformat_minor": 5
}
